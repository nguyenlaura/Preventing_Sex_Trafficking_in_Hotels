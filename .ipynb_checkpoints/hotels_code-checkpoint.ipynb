{
 "cells": [
  {
   "cell_type": "code",
   "execution_count": 4,
   "metadata": {},
   "outputs": [],
   "source": [
    "import pandas as pd"
   ]
  },
  {
   "cell_type": "code",
   "execution_count": 3,
   "metadata": {},
   "outputs": [
    {
     "name": "stdout",
     "output_type": "stream",
     "text": [
      "\u001b[31mchain_info.csv\u001b[m\u001b[m hotel_info.csv test_set.csv   train_set.csv\r\n"
     ]
    }
   ],
   "source": [
    "!ls input/dataset"
   ]
  },
  {
   "cell_type": "code",
   "execution_count": 12,
   "metadata": {},
   "outputs": [],
   "source": [
    "train_df = pd.read_csv('input/dataset/train_set.csv', names=['image_id', 'hotel_id', 'image_url', 'image_source', 'upload_timestamp'])"
   ]
  },
  {
   "cell_type": "code",
   "execution_count": 13,
   "metadata": {},
   "outputs": [
    {
     "data": {
      "text/html": [
       "<div>\n",
       "<style scoped>\n",
       "    .dataframe tbody tr th:only-of-type {\n",
       "        vertical-align: middle;\n",
       "    }\n",
       "\n",
       "    .dataframe tbody tr th {\n",
       "        vertical-align: top;\n",
       "    }\n",
       "\n",
       "    .dataframe thead th {\n",
       "        text-align: right;\n",
       "    }\n",
       "</style>\n",
       "<table border=\"1\" class=\"dataframe\">\n",
       "  <thead>\n",
       "    <tr style=\"text-align: right;\">\n",
       "      <th></th>\n",
       "      <th>image_id</th>\n",
       "      <th>hotel_id</th>\n",
       "      <th>image_url</th>\n",
       "      <th>image_source</th>\n",
       "      <th>upload_timestamp</th>\n",
       "    </tr>\n",
       "  </thead>\n",
       "  <tbody>\n",
       "    <tr>\n",
       "      <th>0</th>\n",
       "      <td>3485</td>\n",
       "      <td>18187</td>\n",
       "      <td>https://traffickcam.com/images/2016/10/2015090...</td>\n",
       "      <td>traffickcam</td>\n",
       "      <td>9/9/15 17:23</td>\n",
       "    </tr>\n",
       "    <tr>\n",
       "      <th>1</th>\n",
       "      <td>3486</td>\n",
       "      <td>18187</td>\n",
       "      <td>https://traffickcam.com/images/2016/10/2015090...</td>\n",
       "      <td>traffickcam</td>\n",
       "      <td>9/9/15 17:23</td>\n",
       "    </tr>\n",
       "    <tr>\n",
       "      <th>2</th>\n",
       "      <td>3663</td>\n",
       "      <td>73224</td>\n",
       "      <td>https://traffickcam.com/images/2016/10/2015091...</td>\n",
       "      <td>traffickcam</td>\n",
       "      <td>9/17/15 19:33</td>\n",
       "    </tr>\n",
       "    <tr>\n",
       "      <th>3</th>\n",
       "      <td>2586939</td>\n",
       "      <td>86350</td>\n",
       "      <td>https://traffickcam.com/images/2017/2/20160125...</td>\n",
       "      <td>traffickcam</td>\n",
       "      <td>1/25/16 19:12</td>\n",
       "    </tr>\n",
       "    <tr>\n",
       "      <th>4</th>\n",
       "      <td>2586950</td>\n",
       "      <td>1533</td>\n",
       "      <td>https://traffickcam.com/images/2017/2/20160125...</td>\n",
       "      <td>traffickcam</td>\n",
       "      <td>1/25/16 17:23</td>\n",
       "    </tr>\n",
       "  </tbody>\n",
       "</table>\n",
       "</div>"
      ],
      "text/plain": [
       "   image_id  hotel_id                                          image_url  \\\n",
       "0      3485     18187  https://traffickcam.com/images/2016/10/2015090...   \n",
       "1      3486     18187  https://traffickcam.com/images/2016/10/2015090...   \n",
       "2      3663     73224  https://traffickcam.com/images/2016/10/2015091...   \n",
       "3   2586939     86350  https://traffickcam.com/images/2017/2/20160125...   \n",
       "4   2586950      1533  https://traffickcam.com/images/2017/2/20160125...   \n",
       "\n",
       "  image_source upload_timestamp  \n",
       "0  traffickcam     9/9/15 17:23  \n",
       "1  traffickcam     9/9/15 17:23  \n",
       "2  traffickcam    9/17/15 19:33  \n",
       "3  traffickcam    1/25/16 19:12  \n",
       "4  traffickcam    1/25/16 17:23  "
      ]
     },
     "execution_count": 13,
     "metadata": {},
     "output_type": "execute_result"
    }
   ],
   "source": [
    "train_df.head()"
   ]
  },
  {
   "cell_type": "code",
   "execution_count": 14,
   "metadata": {},
   "outputs": [
    {
     "name": "stdout",
     "output_type": "stream",
     "text": [
      "<class 'pandas.core.frame.DataFrame'>\n",
      "RangeIndex: 1124215 entries, 0 to 1124214\n",
      "Data columns (total 5 columns):\n",
      " #   Column            Non-Null Count    Dtype \n",
      "---  ------            --------------    ----- \n",
      " 0   image_id          1124215 non-null  int64 \n",
      " 1   hotel_id          1124215 non-null  int64 \n",
      " 2   image_url         1124215 non-null  object\n",
      " 3   image_source      1124215 non-null  object\n",
      " 4   upload_timestamp  1124215 non-null  object\n",
      "dtypes: int64(2), object(3)\n",
      "memory usage: 42.9+ MB\n"
     ]
    }
   ],
   "source": [
    "train_df.info()"
   ]
  },
  {
   "cell_type": "code",
   "execution_count": 7,
   "metadata": {},
   "outputs": [],
   "source": [
    "hotel_df = pd.read_csv('input/dataset/hotel_info.csv')"
   ]
  },
  {
   "cell_type": "code",
   "execution_count": 8,
   "metadata": {},
   "outputs": [
    {
     "data": {
      "text/html": [
       "<div>\n",
       "<style scoped>\n",
       "    .dataframe tbody tr th:only-of-type {\n",
       "        vertical-align: middle;\n",
       "    }\n",
       "\n",
       "    .dataframe tbody tr th {\n",
       "        vertical-align: top;\n",
       "    }\n",
       "\n",
       "    .dataframe thead th {\n",
       "        text-align: right;\n",
       "    }\n",
       "</style>\n",
       "<table border=\"1\" class=\"dataframe\">\n",
       "  <thead>\n",
       "    <tr style=\"text-align: right;\">\n",
       "      <th></th>\n",
       "      <th>hotel_id</th>\n",
       "      <th>hotel_name</th>\n",
       "      <th>chain_id</th>\n",
       "      <th>latitude</th>\n",
       "      <th>longitude</th>\n",
       "    </tr>\n",
       "  </thead>\n",
       "  <tbody>\n",
       "    <tr>\n",
       "      <th>0</th>\n",
       "      <td>391</td>\n",
       "      <td>Extended Stay America - Fairbanks - Old Airpor...</td>\n",
       "      <td>72</td>\n",
       "      <td>64.83538</td>\n",
       "      <td>-147.82330</td>\n",
       "    </tr>\n",
       "    <tr>\n",
       "      <th>1</th>\n",
       "      <td>392</td>\n",
       "      <td>Hilton Hangzhou Qiandao Lake Resort</td>\n",
       "      <td>3</td>\n",
       "      <td>29.60819</td>\n",
       "      <td>119.07290</td>\n",
       "    </tr>\n",
       "    <tr>\n",
       "      <th>2</th>\n",
       "      <td>393</td>\n",
       "      <td>Taj Lands End</td>\n",
       "      <td>-1</td>\n",
       "      <td>19.04391</td>\n",
       "      <td>72.81879</td>\n",
       "    </tr>\n",
       "    <tr>\n",
       "      <th>3</th>\n",
       "      <td>395</td>\n",
       "      <td>Cambridge Suites Hotel Sydney</td>\n",
       "      <td>-1</td>\n",
       "      <td>46.13663</td>\n",
       "      <td>-60.19551</td>\n",
       "    </tr>\n",
       "    <tr>\n",
       "      <th>4</th>\n",
       "      <td>396</td>\n",
       "      <td>Tamanu Beach</td>\n",
       "      <td>14</td>\n",
       "      <td>-18.84213</td>\n",
       "      <td>-159.78794</td>\n",
       "    </tr>\n",
       "  </tbody>\n",
       "</table>\n",
       "</div>"
      ],
      "text/plain": [
       "   hotel_id                                         hotel_name  chain_id  \\\n",
       "0       391  Extended Stay America - Fairbanks - Old Airpor...        72   \n",
       "1       392                Hilton Hangzhou Qiandao Lake Resort         3   \n",
       "2       393                                      Taj Lands End        -1   \n",
       "3       395                      Cambridge Suites Hotel Sydney        -1   \n",
       "4       396                                       Tamanu Beach        14   \n",
       "\n",
       "   latitude  longitude  \n",
       "0  64.83538 -147.82330  \n",
       "1  29.60819  119.07290  \n",
       "2  19.04391   72.81879  \n",
       "3  46.13663  -60.19551  \n",
       "4 -18.84213 -159.78794  "
      ]
     },
     "execution_count": 8,
     "metadata": {},
     "output_type": "execute_result"
    }
   ],
   "source": [
    "hotel_df.head()"
   ]
  },
  {
   "cell_type": "code",
   "execution_count": 15,
   "metadata": {},
   "outputs": [
    {
     "name": "stdout",
     "output_type": "stream",
     "text": [
      "<class 'pandas.core.frame.DataFrame'>\n",
      "RangeIndex: 50000 entries, 0 to 49999\n",
      "Data columns (total 5 columns):\n",
      " #   Column      Non-Null Count  Dtype  \n",
      "---  ------      --------------  -----  \n",
      " 0   hotel_id    50000 non-null  int64  \n",
      " 1   hotel_name  50000 non-null  object \n",
      " 2   chain_id    50000 non-null  int64  \n",
      " 3   latitude    50000 non-null  float64\n",
      " 4   longitude   50000 non-null  float64\n",
      "dtypes: float64(2), int64(2), object(1)\n",
      "memory usage: 1.9+ MB\n"
     ]
    }
   ],
   "source": [
    "hotel_df.info()"
   ]
  },
  {
   "cell_type": "code",
   "execution_count": 9,
   "metadata": {},
   "outputs": [],
   "source": [
    "chain_df = pd.read_csv('input/dataset/chain_info.csv')"
   ]
  },
  {
   "cell_type": "code",
   "execution_count": 10,
   "metadata": {},
   "outputs": [
    {
     "data": {
      "text/html": [
       "<div>\n",
       "<style scoped>\n",
       "    .dataframe tbody tr th:only-of-type {\n",
       "        vertical-align: middle;\n",
       "    }\n",
       "\n",
       "    .dataframe tbody tr th {\n",
       "        vertical-align: top;\n",
       "    }\n",
       "\n",
       "    .dataframe thead th {\n",
       "        text-align: right;\n",
       "    }\n",
       "</style>\n",
       "<table border=\"1\" class=\"dataframe\">\n",
       "  <thead>\n",
       "    <tr style=\"text-align: right;\">\n",
       "      <th></th>\n",
       "      <th>chain_id</th>\n",
       "      <th>chain_name</th>\n",
       "    </tr>\n",
       "  </thead>\n",
       "  <tbody>\n",
       "    <tr>\n",
       "      <th>0</th>\n",
       "      <td>-1</td>\n",
       "      <td>unknown</td>\n",
       "    </tr>\n",
       "    <tr>\n",
       "      <th>1</th>\n",
       "      <td>0</td>\n",
       "      <td>Best Western</td>\n",
       "    </tr>\n",
       "    <tr>\n",
       "      <th>2</th>\n",
       "      <td>1</td>\n",
       "      <td>Hyatt</td>\n",
       "    </tr>\n",
       "    <tr>\n",
       "      <th>3</th>\n",
       "      <td>2</td>\n",
       "      <td>Marriott</td>\n",
       "    </tr>\n",
       "    <tr>\n",
       "      <th>4</th>\n",
       "      <td>3</td>\n",
       "      <td>Hilton</td>\n",
       "    </tr>\n",
       "  </tbody>\n",
       "</table>\n",
       "</div>"
      ],
      "text/plain": [
       "   chain_id    chain_name\n",
       "0        -1       unknown\n",
       "1         0  Best Western\n",
       "2         1         Hyatt\n",
       "3         2      Marriott\n",
       "4         3        Hilton"
      ]
     },
     "execution_count": 10,
     "metadata": {},
     "output_type": "execute_result"
    }
   ],
   "source": [
    "chain_df.head()"
   ]
  },
  {
   "cell_type": "code",
   "execution_count": 16,
   "metadata": {},
   "outputs": [
    {
     "name": "stdout",
     "output_type": "stream",
     "text": [
      "<class 'pandas.core.frame.DataFrame'>\n",
      "RangeIndex: 93 entries, 0 to 92\n",
      "Data columns (total 2 columns):\n",
      " #   Column      Non-Null Count  Dtype \n",
      "---  ------      --------------  ----- \n",
      " 0   chain_id    93 non-null     int64 \n",
      " 1   chain_name  93 non-null     object\n",
      "dtypes: int64(1), object(1)\n",
      "memory usage: 1.6+ KB\n"
     ]
    }
   ],
   "source": [
    "chain_df.info()"
   ]
  },
  {
   "cell_type": "code",
   "execution_count": null,
   "metadata": {},
   "outputs": [],
   "source": []
  }
 ],
 "metadata": {
  "kernelspec": {
   "display_name": "Python 3",
   "language": "python",
   "name": "python3"
  },
  "language_info": {
   "codemirror_mode": {
    "name": "ipython",
    "version": 3
   },
   "file_extension": ".py",
   "mimetype": "text/x-python",
   "name": "python",
   "nbconvert_exporter": "python",
   "pygments_lexer": "ipython3",
   "version": "3.8.5"
  }
 },
 "nbformat": 4,
 "nbformat_minor": 4
}
